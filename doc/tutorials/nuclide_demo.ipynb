{
 "cells": [
  {
   "cell_type": "markdown",
   "metadata": {},
   "source": [
    "# The ARMI Nuclide and Element Packages\n",
    "\n",
    "One of the key features that the ARMI framework offers is access to nuclide data across an application (recall: a *nuclide* is a particular isotope of an element. Iron-56, Uranium-238, and Boron-10 are all nuclides). This is specifically useful for nuclear engineers so that manual look-ups of nuclide attributes on sources like Wikipedia, Chart of the Nuclides, etc. are not needed. \n",
    "\n",
    "The available attributes for each nuclide are:\n",
    "\n",
    "- Atomic weight/mass, in amu\n",
    "- Natural abundance\n",
    "- Atomic number, Z\n",
    "- Mass number, A\n",
    "- Half-life\n",
    "- Neutron yield from spontaneous fission\n",
    "    \n",
    "Accessing the nuclide data begins with importing the nuclide bases, and optionally, the elements packages:"
   ]
  },
  {
   "cell_type": "code",
   "execution_count": 7,
   "metadata": {},
   "outputs": [],
   "source": [
    "from armi.nucDirectory import nuclideBases\n",
    "from armi.nucDirectory import elements"
   ]
  },
  {
   "cell_type": "markdown",
   "metadata": {},
   "source": [
    "One these packages are imported, there are several module-level global dictionaries that are important to know about, since these are likely what you will be working with when implementing code that requires nuclide data or just when performing data look-ups:\n",
    "\n",
    "**Nuclide Bases Global Dictionaries**\n",
    "\n",
    "- nuclideBases.byName\n",
    "- nuclideBases.DBName\n",
    "- nuclideBases.byLabel\n",
    "- nuclideBases.byMcc2Id\n",
    "- nuclideBases.byMcc3Id\n",
    "- nuclideBases.byMcnpId\n",
    "- nuclideBases.byAAAZZZSId\n",
    "   \n",
    "**Elements Global Dictionaries**\n",
    "\n",
    "- elements.byZ\n",
    "- elements.bySymbol\n",
    "- elements.byName"
   ]
  },
  {
   "cell_type": "markdown",
   "metadata": {},
   "source": [
    "## Accessing Individual Nuclide Data/Attributes\n",
    "\n",
    "Here we will explore retrieving data from a couple nuclides and showing the coupling between nuclide and element definitions. For these examples, let's try to answer the following questions:\n",
    "\n",
    "- How many total nuclides and elements are defined in the framework?\n",
    "- What is atomic weight of a selected nuclide?\n",
    "- What is the natural abundance a selected nuclide?\n",
    "- Are there any spontaneous fission neutrons for a selected nuclide?\n",
    "- What is the half-life in seconds for a selected nuclide?\n",
    "- How many other nuclides for the same element exist for a selected nuclide?\n",
    "    "
   ]
  },
  {
   "cell_type": "markdown",
   "metadata": {},
   "source": [
    "### How many total nuclides and elements are defined in the framework?"
   ]
  },
  {
   "cell_type": "code",
   "execution_count": 8,
   "metadata": {},
   "outputs": [
    {
     "name": "stdout",
     "output_type": "stream",
     "text": [
      "Number of elements defined in the framework: 120\n",
      "\n",
      "Number of nuclides defined in the framework: 4706\n",
      "   - Number of nuclides of type `<class 'armi.nucDirectory.nuclideBases.NuclideBase'>`: 4614\n",
      "   - Number of nuclides of type `<class 'armi.nucDirectory.nuclideBases.NaturalNuclideBase'>`: 84\n",
      "   - Number of nuclides of type `<class 'armi.nucDirectory.nuclideBases.DummyNuclideBase'>`: 2\n",
      "   - Number of nuclides of type `<class 'armi.nucDirectory.nuclideBases.LumpNuclideBase'>`: 6\n"
     ]
    }
   ],
   "source": [
    "import collections\n",
    "\n",
    "print(f\"Number of elements defined in the framework: {len(elements.byZ.values())}\")\n",
    "print(\"\")\n",
    "print(f\"Number of nuclides defined in the framework: {len(nuclideBases.instances)}\")\n",
    "nucsByType = collections.defaultdict(list)\n",
    "for n in nuclideBases.instances:\n",
    "    nucsByType[type(n)].append(n)\n",
    "\n",
    "for typ, nucs in nucsByType.items():\n",
    "    print(f\"   - Number of nuclides of type `{typ}`: {len(nucs)}\")\n",
    "\n"
   ]
  },
  {
   "cell_type": "markdown",
   "metadata": {},
   "source": [
    "### Looking up nuclide and elemental data for U-235"
   ]
  },
  {
   "cell_type": "code",
   "execution_count": 9,
   "metadata": {},
   "outputs": [
    {
     "name": "stdout",
     "output_type": "stream",
     "text": [
      "<NuclideBase U235:  Z:92, A:235, S:0, W:2.350439e+02, Label:U235>, HL:2.22160758861e+16, Abund:7.204000e-03>\n",
      "Atomic Weight (amu): 235.043929425\n",
      "Natural Abundance: 0.007204\n",
      "Spontaneous Fission Neutron Yield: 1.87\n",
      "Half-life (seconds): 2.22160758861e+16\n",
      "\n",
      "Other nuclides for Uranium:\n",
      "    - <NaturalNuclideBase U:  Z:92, W:2.380289e+02, Label:U>\n",
      "    - <NuclideBase U215:  Z:92, A:215, S:0, W:2.150262e+02, Label:U215>, HL:7.00000000000e-04, Abund:0.000000e+00>\n",
      "    - <NuclideBase U216:  Z:92, A:216, S:0, W:2.160240e+02, Label:U216>, HL:4.50000000000e-03, Abund:0.000000e+00>\n",
      "    - <NuclideBase U217:  Z:92, A:217, S:0, W:2.170244e+02, Label:U217>, HL:1.60000000000e-02, Abund:0.000000e+00>\n",
      "    - <NuclideBase U218:  Z:92, A:218, S:0, W:2.180235e+02, Label:U218>, HL:6.50000000000e-04, Abund:0.000000e+00>\n",
      "    - <NuclideBase U219:  Z:92, A:219, S:0, W:2.190249e+02, Label:U219>, HL:6.00000000000e-05, Abund:0.000000e+00>\n",
      "    - <NuclideBase U220:  Z:92, A:220, S:0, W:2.200247e+02, Label:U220>, HL:1.11110000000e+01, Abund:0.000000e+00>\n",
      "    - <NuclideBase U221:  Z:92, A:221, S:0, W:2.210264e+02, Label:U221>, HL:6.60000000000e-07, Abund:0.000000e+00>\n",
      "    - <NuclideBase U222:  Z:92, A:222, S:0, W:2.220261e+02, Label:U222>, HL:4.70000000000e-06, Abund:0.000000e+00>\n",
      "    - <NuclideBase U223:  Z:92, A:223, S:0, W:2.230277e+02, Label:U223>, HL:1.80000000000e-05, Abund:0.000000e+00>\n",
      "    - <NuclideBase U224:  Z:92, A:224, S:0, W:2.240276e+02, Label:U224>, HL:8.40000000000e-04, Abund:0.000000e+00>\n",
      "    - <NuclideBase U225:  Z:92, A:225, S:0, W:2.250294e+02, Label:U225>, HL:6.90000000000e-02, Abund:0.000000e+00>\n",
      "    - <NuclideBase U226:  Z:92, A:226, S:0, W:2.260293e+02, Label:U226>, HL:2.68000000000e-01, Abund:0.000000e+00>\n",
      "    - <NuclideBase U227:  Z:92, A:227, S:0, W:2.270312e+02, Label:U227>, HL:6.60000000000e+01, Abund:0.000000e+00>\n",
      "    - <NuclideBase U228:  Z:92, A:228, S:0, W:2.280314e+02, Label:U228>, HL:5.46000000000e+02, Abund:0.000000e+00>\n",
      "    - <NuclideBase U229:  Z:92, A:229, S:0, W:2.290335e+02, Label:U229>, HL:3.48000000000e+03, Abund:0.000000e+00>\n",
      "    - <NuclideBase U230:  Z:92, A:230, S:0, W:2.300339e+02, Label:U230>, HL:1.74787200000e+06, Abund:0.000000e+00>\n",
      "    - <NuclideBase U231:  Z:92, A:231, S:0, W:2.310363e+02, Label:U231>, HL:3.62880000000e+05, Abund:0.000000e+00>\n",
      "    - <NuclideBase U232:  Z:92, A:232, S:0, W:2.320372e+02, Label:U232>, HL:2.17427219965e+09, Abund:0.000000e+00>\n",
      "    - <NuclideBase U233:  Z:92, A:233, S:0, W:2.330396e+02, Label:U233>, HL:5.02354704590e+12, Abund:0.000000e+00>\n",
      "    - <NuclideBase U234:  Z:92, A:234, S:0, W:2.340410e+02, Label:U234>, HL:7.74722532676e+12, Abund:5.400000e-05>\n",
      "    - <NuclideBase U235:  Z:92, A:235, S:0, W:2.350439e+02, Label:U235>, HL:2.22160758861e+16, Abund:7.204000e-03>\n",
      "    - <NuclideBase U235M:  Z:92, A:235, S:1, W:2.350439e+02, Label:U23F>, HL:1.56000000000e+03, Abund:0.000000e+00>\n",
      "    - <NuclideBase U236:  Z:92, A:236, S:0, W:2.360456e+02, Label:U236>, HL:7.39063206325e+14, Abund:0.000000e+00>\n",
      "    - <NuclideBase U237:  Z:92, A:237, S:0, W:2.370487e+02, Label:U237>, HL:5.83372800000e+05, Abund:0.000000e+00>\n",
      "    - <NuclideBase U238:  Z:92, A:238, S:0, W:2.380508e+02, Label:U238>, HL:1.40996345254e+17, Abund:9.927420e-01>\n",
      "    - <NuclideBase U239:  Z:92, A:239, S:0, W:2.390543e+02, Label:U239>, HL:1.40700000000e+03, Abund:0.000000e+00>\n",
      "    - <NuclideBase U240:  Z:92, A:240, S:0, W:2.400566e+02, Label:U240>, HL:5.07600000000e+04, Abund:0.000000e+00>\n",
      "    - <NuclideBase U241:  Z:92, A:241, S:0, W:2.410603e+02, Label:U241>, HL:inf            , Abund:0.000000e+00>\n",
      "    - <NuclideBase U242:  Z:92, A:242, S:0, W:2.420629e+02, Label:U242>, HL:1.00800000000e+03, Abund:0.000000e+00>\n",
      "    - <NuclideBase U243:  Z:92, A:243, S:0, W:2.430674e+02, Label:U243>, HL:inf            , Abund:0.000000e+00>\n",
      "    - <NuclideBase U244:  Z:92, A:244, S:0, W:2.440679e+02, Label:U244>, HL:inf            , Abund:0.000000e+00>\n",
      "    - <NuclideBase U245:  Z:92, A:245, S:0, W:2.450708e+02, Label:U245>, HL:inf            , Abund:0.000000e+00>\n",
      "    - <NuclideBase U246:  Z:92, A:246, S:0, W:2.460702e+02, Label:U246>, HL:inf            , Abund:0.000000e+00>\n"
     ]
    }
   ],
   "source": [
    "u235 = nuclideBases.byName['U235']\n",
    "\n",
    "print(u235)\n",
    "print(f\"Atomic Weight (amu): {u235.weight}\")\n",
    "print(f\"Natural Abundance: {u235.abundance}\")\n",
    "print(f\"Spontaneous Fission Neutron Yield: {u235.nuSF}\")\n",
    "print(f\"Half-life (seconds): {u235.halflife}\")\n",
    "print(\"\")\n",
    "print(f\"Other nuclides for {elements.byZ[u235.z].name}:\")\n",
    "for n in elements.byZ[u235.z].nuclides:\n",
    "    print(f\"    - {n}\")"
   ]
  },
  {
   "cell_type": "markdown",
   "metadata": {},
   "source": [
    "### Looking up nuclide and elemental data for Li-7"
   ]
  },
  {
   "cell_type": "code",
   "execution_count": 10,
   "metadata": {},
   "outputs": [
    {
     "name": "stdout",
     "output_type": "stream",
     "text": [
      "<NuclideBase LI7:  Z:3, A:7, S:0, W:7.016004e+00, Label:LI07>, HL:inf            , Abund:9.241000e-01>\n",
      "Atomic Weight (amu): 7.01600439548\n",
      "Natural Abundance: 0.92410004\n",
      "Spontaneous Fission Neutron Yield: 0.0\n",
      "Half-life (seconds): inf\n",
      "\n",
      "Other nuclides for Lithium:\n",
      "    - <NaturalNuclideBase LI:  Z:3, W:6.940038e+00, Label:LI>\n",
      "    - <NuclideBase LI3:  Z:3, A:3, S:0, W:3.030775e+00, Label:LI03>, HL:1.11110000000e+01, Abund:0.000000e+00>\n",
      "    - <NuclideBase LI4:  Z:3, A:4, S:0, W:4.027185e+00, Label:LI04>, HL:inf            , Abund:0.000000e+00>\n",
      "    - <NuclideBase LI5:  Z:3, A:5, S:0, W:5.012538e+00, Label:LI05>, HL:3.70924971603e-22, Abund:0.000000e+00>\n",
      "    - <NuclideBase LI6:  Z:3, A:6, S:0, W:6.015123e+00, Label:LI06>, HL:inf            , Abund:7.590000e-02>\n",
      "    - <NuclideBase LI7:  Z:3, A:7, S:0, W:7.016004e+00, Label:LI07>, HL:inf            , Abund:9.241000e-01>\n",
      "    - <NuclideBase LI8:  Z:3, A:8, S:0, W:8.022488e+00, Label:LI08>, HL:8.39900000000e-01, Abund:0.000000e+00>\n",
      "    - <NuclideBase LI9:  Z:3, A:9, S:0, W:9.026789e+00, Label:LI09>, HL:1.78300000000e-01, Abund:0.000000e+00>\n",
      "    - <NuclideBase LI10:  Z:3, A:10, S:0, W:1.003548e+01, Label:LI10>, HL:inf            , Abund:0.000000e+00>\n",
      "    - <NuclideBase LI11:  Z:3, A:11, S:0, W:1.104380e+01, Label:LI11>, HL:8.75000000000e-03, Abund:0.000000e+00>\n",
      "    - <NuclideBase LI12:  Z:3, A:12, S:0, W:1.205378e+01, Label:LI12>, HL:inf            , Abund:0.000000e+00>\n",
      "    - <NuclideBase LI13:  Z:3, A:13, S:0, W:1.306117e+01, Label:LI13>, HL:1.11110000000e+01, Abund:0.000000e+00>\n"
     ]
    }
   ],
   "source": [
    "li7 = nuclideBases.byName['LI7']\n",
    "\n",
    "print(li7)\n",
    "print(f\"Atomic Weight (amu): {li7.weight}\")\n",
    "print(f\"Natural Abundance: {li7.abundance}\")\n",
    "print(f\"Spontaneous Fission Neutron Yield: {li7.nuSF}\")\n",
    "print(f\"Half-life (seconds): {li7.halflife}\")\n",
    "print(\"\")\n",
    "print(f\"Other nuclides for {elements.byZ[li7.z].name}:\")\n",
    "for n in elements.byZ[li7.z].nuclides:\n",
    "    print(f\"    - {n}\")"
   ]
  },
  {
   "cell_type": "markdown",
   "metadata": {},
   "source": [
    "### Exploring elemental Lithium data"
   ]
  },
  {
   "cell_type": "code",
   "execution_count": 11,
   "metadata": {},
   "outputs": [
    {
     "name": "stdout",
     "output_type": "stream",
     "text": [
      "<Element  LI (Z=3), Lithium, ChemicalGroup.ALKALI_METAL, ChemicalPhase.SOLID>\n",
      "\n",
      "Average Atomic weight: 6.940037501798687\n",
      "Is Naturally Occurring?: True\n",
      "Is a Heavy Metal Atom?: False\n"
     ]
    }
   ],
   "source": [
    "liElement = elements.bySymbol['LI']\n",
    "\n",
    "print(liElement)\n",
    "print(\"\")\n",
    "print(f\"Average Atomic weight: {liElement.standardWeight}\")\n",
    "print(f\"Is Naturally Occurring?: {liElement.isNaturallyOccurring()}\")\n",
    "print(f\"Is a Heavy Metal Atom?: {liElement.isHeavyMetal()}\")"
   ]
  },
  {
   "cell_type": "markdown",
   "metadata": {},
   "source": [
    "## Plotting the Chart of the Nuclides"
   ]
  },
  {
   "cell_type": "code",
   "execution_count": 12,
   "metadata": {},
   "outputs": [
    {
     "data": {
      "image/png": "[encoded data removed]",
      "text/plain": [
       "<Figure size 864x576 with 1 Axes>"
      ]
     },
     "metadata": {
      "needs_background": "light"
     },
     "output_type": "display_data"
    }
   ],
   "source": [
    "import matplotlib.pyplot as plt\n",
    "from matplotlib import colors\n",
    "xyc = []\n",
    "for name, base in nuclideBases.byName.items():\n",
    "    if not base.a:\n",
    "        continue\n",
    "    xyc.append((base.a-base.z, base.z, base.abundance or 0.5))\n",
    "x,y,c = zip(*xyc)\n",
    "plt.figure(figsize=(12,8))\n",
    "plt.scatter(x,y,c = c, marker='s', s=6)\n",
    "plt.title('Chart of the nuclides')\n",
    "plt.xlabel('Number of neutrons (N)')\n",
    "plt.ylabel('Number of protons (Z)')\n",
    "plt.show()"
   ]
  }
 ],
 "metadata": {
  "kernelspec": {
   "display_name": "Python 3 (ipykernel)",
   "language": "python",
   "name": "python3"
  },
  "language_info": {
   "codemirror_mode": {
    "name": "ipython",
    "version": 3
   },
   "file_extension": ".py",
   "mimetype": "text/x-python",
   "name": "python",
   "nbconvert_exporter": "python",
   "pygments_lexer": "ipython3",
   "version": "3.9.13"
  },
  "varInspector": {
   "cols": {
    "lenName": 16,
    "lenType": 16,
    "lenVar": 40
   },
   "kernels_config": {
    "python": {
     "delete_cmd_postfix": "",
     "delete_cmd_prefix": "del ",
     "library": "var_list.py",
     "varRefreshCmd": "print(var_dic_list())"
    },
    "r": {
     "delete_cmd_postfix": ") ",
     "delete_cmd_prefix": "rm(",
     "library": "var_list.r",
     "varRefreshCmd": "cat(var_dic_list()) "
    }
   },
   "types_to_exclude": [
    "module",
    "function",
    "builtin_function_or_method",
    "instance",
    "_Feature"
   ],
   "window_display": false
  }
 },
 "nbformat": 4,
 "nbformat_minor": 2
}
