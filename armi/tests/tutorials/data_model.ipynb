{
 "cells": [
  {
   "cell_type": "markdown",
   "metadata": {},
   "source": [
    "# Hands-on at the ARMI Terminal\n",
    "\n",
    "This tutorial will walk you through some exploration with ARMI on the command\n",
    "line with the goal of exposing you to some of the capabilities\n",
    "and organization of information in the ARMI system.\n",
    "\n",
    "## Initializing and Exploring the ARMI Model\n",
    "First we need to get some inputs. We built some from scratch in the, and we pick those up and use them here as well:\n"
   ]
  },
  {
   "cell_type": "raw",
   "metadata": {
    "raw_mimetype": "text/restructuredtext"
   },
   "source": [
    "* :download:`Blueprints <../../../armi/tests/tutorials/anl-afci-177-blueprints.yaml>`\n",
    "* :download:`Settings <../../../armi/tests/tutorials/anl-afci-177.yaml>`\n",
    "* :download:`Core map <../../../armi/tests/tutorials/anl-afci-177-coremap.yaml>`\n",
    "* :download:`Fuel management <../../../armi/tests/tutorials/anl-afci-177-fuelManagement.py>`"
   ]
  },
  {
   "cell_type": "markdown",
   "metadata": {},
   "source": [
    "You can load these inputs using armi's ``init`` function. This will build an **Operator**, a **Reactor**, and an **Interface Stack** full of various interfaces."
   ]
  },
  {
   "cell_type": "code",
   "execution_count": null,
   "metadata": {},
   "outputs": [],
   "source": [
    "# you can only configure an app once\n",
    "import armi\n",
    "if not armi.isConfigured():\n",
    "    armi.configure(armi.apps.App())"
   ]
  },
  {
   "cell_type": "code",
   "execution_count": null,
   "metadata": {},
   "outputs": [],
   "source": [
    "o=armi.init(fName=\"anl-afci-177.yaml\");"
   ]
  },
  {
   "cell_type": "raw",
   "metadata": {
    "raw_mimetype": "text/restructuredtext"
   },
   "source": [
    "You have now created an ``operator`` object, which contains a ``Reactor`` object (called ``o.r``) that\n",
    "represents the beginning-of-life (BOL) state of the nuclear reactor defined in the inputs. The reactor looks\n",
    "like this:\n",
    "\n",
    ".. figure:: /.static/armi_reactor_objects.png\n",
    "    :align: center\n",
    "\n",
    "    **Figure 1.** The primary data containers in ARMI\n"
   ]
  },
  {
   "cell_type": "raw",
   "metadata": {
    "raw_mimetype": "text/restructuredtext"
   },
   "source": [
    "The data hierarchy in an ARMI model often is made up of:\n",
    "\n",
    "* :py:mod:`Reactors <armi.reactor.reactors>`, often named ``reactor`` or ``r`` contain a Core and possibly other equipment. They represent collections of assemblies. \n",
    "* :py:mod:`Assemblies <armi.reactor.assemblies>`, often named ``assembly`` or ``a``, are individual pieces that collect into a System.\n",
    "* :py:mod:`Blocks <armi.reactor.blocks>`, often called ``block`` or ``b`` are divisions of the assemblies into sections one on top of the other.\n",
    "* :py:mod:`Components <armi.reactor.components>` The geometrically defined objects (Circles, Hexagons, Helices, Dodecagons) and their dimensions\n",
    "* :py:mod:`Materials <armi.materials>` are objects which have material properties like linear expansion coefficients, thermal conductivities, isotopic mass fractions, and densities\n",
    "\n",
    "Each of these objects house more than the listed objects, they also are responsible for a variety of state information\n",
    "like the reactor's overall keff, flux, height, temperature, etc. In this section, we will explore these objects,\n",
    "see how to access them, and how to view their contained information.\n",
    "\n",
    "Exploring it a little, we can list all the assemblies in the reactor with:\n"
   ]
  },
  {
   "cell_type": "code",
   "execution_count": null,
   "metadata": {},
   "outputs": [],
   "source": [
    "core = o.r.core\n",
    "core.getAssemblies()[:25] # only print the first 25"
   ]
  },
  {
   "cell_type": "raw",
   "metadata": {
    "raw_mimetype": "text/restructuredtext"
   },
   "source": [
    ".. admonition:: Quiz Question 1 \n",
    "    \n",
    "    How many assemblies does the model have? (see answers at bottom)\n",
    "    \n",
    "    \n",
    ".. tip::\n",
    "    A reactor is made up of assemblies, which are made up of blocks, and so on. Each composite ARMI\n",
    "    object has a ``getChildren`` method that will retrieve a list of its contents. For clarity,\n",
    "    reactors have a ``getAssemblies()`` method and assemblies have a ``getBlocks()`` method,\n",
    "    but these do exactly the same thing as ``getChildren()`` in both cases.\n",
    "\n",
    "    Reactor, assembly, blocks, etc. objects act like lists as well, so you can get the fifth\n",
    "    assembly out of a reactor just like you'd get the fifth item out of any other list\n",
    "    (don't forget that python uses `zero-based numbering <http://en.wikipedia.org/wiki/Zero-based_numbering>`_).::\n",
    "\n",
    "        >>> fifthAssem = core[4]"
   ]
  },
  {
   "cell_type": "markdown",
   "metadata": {},
   "source": [
    "You can drill down the hierarchy for a particular assembly:"
   ]
  },
  {
   "cell_type": "code",
   "execution_count": null,
   "metadata": {},
   "outputs": [],
   "source": [
    "core = o.r[0]\n",
    "print(core)\n",
    "assem = core[1]\n",
    "print(assem)\n",
    "block = assem[5]\n",
    "print(block)\n",
    "print(f\"Block's parent is: {block.parent}\")\n",
    "components = block.getChildren()\n",
    "print(components)\n",
    "material = components[0].material\n",
    "print(material)"
   ]
  },
  {
   "cell_type": "markdown",
   "metadata": {
    "raw_mimetype": "text/restructuredtext"
   },
   "source": [
    "## Exploring the *state* of the reactor\n",
    "State can be explored using a variety of framework methods, as well as looking at state *parameters*. Let's first try out some methods to find out how much U-235 is in the model and what the average uranium enrichment is:"
   ]
  },
  {
   "cell_type": "code",
   "execution_count": null,
   "metadata": {},
   "outputs": [],
   "source": [
    "u235 = core.getMass('U235')\n",
    "u238 = core.getMass('U238')\n",
    "print(f\"The core contains {u235} grams of U-235\")\n",
    "print(f\"The average fissile enrichment is {u235/(u235+u238)}\")"
   ]
  },
  {
   "cell_type": "markdown",
   "metadata": {},
   "source": [
    "That's how much U-235 is in the 1/3 core. If we want the total mass (including all nuclides), we can just leave the argument out:"
   ]
  },
  {
   "cell_type": "code",
   "execution_count": null,
   "metadata": {},
   "outputs": [],
   "source": [
    "core.getMass()/1.e6"
   ]
  },
  {
   "cell_type": "code",
   "execution_count": null,
   "metadata": {},
   "outputs": [],
   "source": [
    "core.getMass?"
   ]
  },
  {
   "cell_type": "markdown",
   "metadata": {},
   "source": [
    "Furthermore, you can get a list of available methods by pressing the tab key. Try `core.` followed by `[Tab]`. Try out some options!"
   ]
  },
  {
   "cell_type": "raw",
   "metadata": {
    "raw_mimetype": "text/restructuredtext"
   },
   "source": [
    "Use tab completion to explore other methods of ARMI reactors assemblies and blocks. You can\n",
    "view a summary of the methods of any object in the :ref:`API documentation <modindex>`.\n",
    "For a good example, see :py:class:`the API docs for a block <armi.reactor.blocks.Block>`."
   ]
  },
  {
   "cell_type": "markdown",
   "metadata": {},
   "source": [
    "Next, lets find out what the number density of U235 is in a particular fuel block. We'll use the *FLAGS* system to select a particular type of block (in this case, a fuel block):"
   ]
  },
  {
   "cell_type": "code",
   "execution_count": null,
   "metadata": {},
   "outputs": [],
   "source": [
    "from armi.reactor.flags import Flags\n",
    "b = core.getFirstBlock(Flags.FUEL)\n",
    "print(f\"U-235 ndens: {b.getNumberDensity('U235'):.4e} (atoms/bn-cm)\")\n",
    "print(f\"Block name: {b.getName()}\")\n",
    "print(f\"Block type: {b.getType()}\")"
   ]
  },
  {
   "cell_type": "markdown",
   "metadata": {},
   "source": [
    "You can find lots of other details about this block with:"
   ]
  },
  {
   "cell_type": "code",
   "execution_count": null,
   "metadata": {},
   "outputs": [],
   "source": [
    "b.printContents(includeNuclides=False)"
   ]
  },
  {
   "cell_type": "markdown",
   "metadata": {},
   "source": [
    "## Modifying the state of the reactor\n",
    "Each object in the Reactor model has a bunch of *state parameters* contained in it's special `.p` attribute, called it's *Parameter Collection*). The state parameters are defined both by the ARMI framework and the collection of plugins. For instance, you can look at the core's keff parameters or each individual block's power and multi-group flux parameters like this:"
   ]
  },
  {
   "cell_type": "code",
   "execution_count": null,
   "metadata": {},
   "outputs": [],
   "source": [
    "print(b.p.power)\n",
    "print(core.p.keff)\n",
    "print(b.p.mgFlux)"
   ]
  },
  {
   "cell_type": "markdown",
   "metadata": {},
   "source": [
    "As you might expect, the values are zero because we have not performed any physics calculations yet. We could run a physics plugin at this point to add physics state, but for this tutorial, we'll just apply dummy data. Here's a fake physics kernel that just sets a power distribution based on spatial location of each block (e.g. a spherical distribution):"
   ]
  },
  {
   "cell_type": "code",
   "execution_count": null,
   "metadata": {},
   "outputs": [],
   "source": [
    "import numpy as np\n",
    "midplane = core[0].getHeight()/2.0\n",
    "center = np.array([0,0,midplane])\n",
    "peakPower = 1e6\n",
    "mgFluxBase = np.arange(5)\n",
    "def setFakePower(core):\n",
    "    for a in core:\n",
    "        for b in a:\n",
    "            vol = b.getVolume()\n",
    "            coords = b.spatialLocator.getGlobalCoordinates()\n",
    "            r = np.linalg.norm(abs(coords-center))\n",
    "            fuelFlag = 10 if b.isFuel() else 1.0\n",
    "            b.p.power = peakPower / r**2 * fuelFlag\n",
    "            b.p.pdens = b.p.power/vol\n",
    "            b.p.mgFlux = mgFluxBase*b.p.pdens\n",
    "setFakePower(core)"
   ]
  },
  {
   "cell_type": "code",
   "execution_count": null,
   "metadata": {},
   "outputs": [],
   "source": [
    "print(b.p.power)\n",
    "print(b.p.pdens)"
   ]
  },
  {
   "cell_type": "code",
   "execution_count": null,
   "metadata": {},
   "outputs": [],
   "source": [
    "import matplotlib.pyplot as plt\n",
    "a = b.parent\n",
    "z = [b.spatialLocator.getGlobalCoordinates()[2] for b in a]\n",
    "power = a.getChildParamValues('power')\n",
    "plt.plot(z,power,'.-')\n",
    "plt.title(\"Fake power distribution on reactor\")"
   ]
  },
  {
   "cell_type": "markdown",
   "metadata": {},
   "source": [
    "We can take a look at the spatial distribution as well:"
   ]
  },
  {
   "cell_type": "code",
   "execution_count": null,
   "metadata": {},
   "outputs": [],
   "source": [
    "from armi.utils import plotting\n",
    "# Note, if you were plotting outside jupyter, you could click\n",
    "# on different depths at the bottom to view different axial planes.\n",
    "plotting.plotBlockDepthMap(core, \"power\", depthIndex=5)"
   ]
  },
  {
   "cell_type": "markdown",
   "metadata": {},
   "source": [
    "## Modifying number densities\n",
    "Analysts frequently want to modify number densities. For example, if you needed to compute a coolant density coefficient, you could simply reduce the amount of coolant in the core. "
   ]
  },
  {
   "cell_type": "code",
   "execution_count": null,
   "metadata": {},
   "outputs": [],
   "source": [
    "sodiumBefore = core.getMass('NA')\n",
    "print(f\"Before: {sodiumBefore/1e6:.2f} MT Sodium\")\n",
    "for b in core.getBlocks():      # loop through all blocks\n",
    "    refDens = b.getNumberDensity('NA23')\n",
    "    b.setNumberDensity('NA23',refDens*0.98) # reduce Na density by 2%\n",
    "sodiumAfter = core.getMass('NA')\n",
    "print(f\"After:  {sodiumAfter/1e6:.2f} MT Sodium\")"
   ]
  },
  {
   "cell_type": "markdown",
   "metadata": {},
   "source": [
    "If you analyze the keff with a physics plugin before and after, the change in the `core.p.keff` param would determine your density coefficient of reactivity. \n",
    "\n",
    "## Saving state to disk\n",
    "During analysis, it's often useful to save the reactor state to disk in a database. The ARMI database package handles this, and writes it out to an [HDF-formatted](https://en.wikipedia.org/wiki/Hierarchical_Data_Format) file. This is typically done automatically at each point in time in a normal simulation, and can also be done manually, like this:"
   ]
  },
  {
   "cell_type": "code",
   "execution_count": null,
   "metadata": {},
   "outputs": [],
   "source": [
    "dbi = o.getInterface(\"database\")\n",
    "dbi.initDB()\n",
    "dbi.database.writeToDB(o.r)"
   ]
  },
  {
   "cell_type": "markdown",
   "metadata": {},
   "source": [
    "## Fuel management\n",
    "One plugin that comes with the framework is the Fuel Handler. It attaches the Fuel Handler interface, which we can grab now to move fuel around. In a typical ARMI run, the detailed fuel management choices are specified by the user-input custom shuffle logic file. In this particular example, we will simply swap the 10 highest-power fuel assemblies with the 10 lowest-power ones. "
   ]
  },
  {
   "cell_type": "code",
   "execution_count": null,
   "metadata": {},
   "outputs": [],
   "source": [
    "from armi.physics.fuelCycle import fuelHandlers\n",
    "fh = fuelHandlers.fuelHandlerFactory(o)"
   ]
  },
  {
   "cell_type": "code",
   "execution_count": null,
   "metadata": {},
   "outputs": [],
   "source": [
    "moved = []\n",
    "for n in range(10):\n",
    "    high = fh.findAssembly(param=\"power\", compareTo=1.0e6, blockLevelMax=True, exclusions=moved)\n",
    "    low = fh.findAssembly(param=\"power\", compareTo=0.0, blockLevelMax=True, exclusions=moved)\n",
    "    fh.swapAssemblies(high, low)\n",
    "    moved.extend([high, low])"
   ]
  },
  {
   "cell_type": "code",
   "execution_count": null,
   "metadata": {},
   "outputs": [],
   "source": [
    "plotting.plotBlockDepthMap(core, \"power\", depthIndex=5)\n",
    "# You can also plot total assembly params, which are the sum of block params\n",
    "plotting.plotFaceMap(core, \"power\", vals='sum')"
   ]
  },
  {
   "cell_type": "markdown",
   "metadata": {},
   "source": [
    "We can write this new state to DB as well, since we've shuffled the fuel"
   ]
  },
  {
   "cell_type": "code",
   "execution_count": null,
   "metadata": {},
   "outputs": [],
   "source": [
    "o.r.p.timeNode +=1\n",
    "dbi.database.writeToDB(o.r)\n",
    "dbi.database.close()"
   ]
  },
  {
   "cell_type": "markdown",
   "metadata": {},
   "source": [
    "## Loading from the database\n",
    "Once you have a database, you can use it to load a Reactor object from any of the states that were written to it. First, create a Database3 object, then open it and call its `load()` method."
   ]
  },
  {
   "cell_type": "code",
   "execution_count": null,
   "metadata": {},
   "outputs": [],
   "source": [
    "from armi.bookkeeping import db\n",
    "databaseLocation = \"anl-afci-177.h5\"\n",
    "cycle, timeNode = 0, 1\n",
    "dbo = db.databaseFactory(databaseLocation, \"r\")\n",
    "with dbo:\n",
    "    # Load a new reactor object from the requested cycle and time node\n",
    "    r = dbo.load(cycle, timeNode)"
   ]
  },
  {
   "cell_type": "markdown",
   "metadata": {},
   "source": [
    "We can see that the time node is what we expect (node 1), and there is some fission product mass since we loaded from a cycle after a depletion step."
   ]
  },
  {
   "cell_type": "code",
   "execution_count": null,
   "metadata": {},
   "outputs": [],
   "source": [
    "print(r.p.timeNode)\n",
    "print(o.r.getFissileMass())"
   ]
  },
  {
   "cell_type": "markdown",
   "metadata": {},
   "source": [
    "Having Reactor object by itself can be very useful for all sorts of post-processing tasks. However, sometimes we may wish initialize more ARMI components to do more advanced tasks and interactive follow-on analysis.  Lucky for us, the database stores the settings that were used to run the case in the first place. We can get them like this:"
   ]
  },
  {
   "cell_type": "code",
   "execution_count": null,
   "metadata": {},
   "outputs": [],
   "source": [
    "with dbo:\n",
    "    cs = dbo.loadCS()\n",
    "    print(cs[\"neutronicsKernel\"])\n",
    "    "
   ]
  },
  {
   "cell_type": "markdown",
   "metadata": {},
   "source": [
    "With this `CaseSettings` object, we could create a brand new `Case` and `Operator` and do all sorts of magic. This way of interacting with ARMI is rather advanced, and beyond the scope of this tutorial."
   ]
  },
  {
   "cell_type": "markdown",
   "metadata": {},
   "source": [
    "That's just a brief exploration of the data model. Hopefully it helped orient you to the underlying ARMI structure."
   ]
  }
 ],
 "metadata": {
  "celltoolbar": "Raw Cell Format",
  "kernelspec": {
   "display_name": "Python 3",
   "language": "python",
   "name": "python3"
  },
  "language_info": {
   "codemirror_mode": {
    "name": "ipython",
    "version": 3
   },
   "file_extension": ".py",
   "mimetype": "text/x-python",
   "name": "python",
   "nbconvert_exporter": "python",
   "pygments_lexer": "ipython3",
   "version": "3.7.2"
  }
 },
 "nbformat": 4,
 "nbformat_minor": 2
}
