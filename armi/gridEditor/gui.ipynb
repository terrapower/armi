{
 "cells": [
  {
   "cell_type": "code",
   "execution_count": null,
   "metadata": {},
   "outputs": [],
   "source": [
    "# Copyright 2022 Google, LLC\n",
    "#\n",
    "# Licensed under the Apache License, Version 2.0 (the \"License\");\n",
    "# you may not use this file except in compliance with the License.\n",
    "# You may obtain a copy of the License at\n",
    "#\n",
    "#     http://www.apache.org/licenses/LICENSE-2.0\n",
    "#\n",
    "# Unless required by applicable law or agreed to in writing, software\n",
    "# distributed under the License is distributed on an \"AS IS\" BASIS,\n",
    "# WITHOUT WARRANTIES OR CONDITIONS OF ANY KIND, either express or implied.\n",
    "# See the License for the specific language governing permissions and\n",
    "# limitations under the License.\n",
    "\n",
    "import io\n",
    "import pathlib\n",
    "\n",
    "from notebookjs import execute_js\n",
    "from ruamel.yaml import RoundTripLoader\n",
    "\n",
    "import armi\n",
    "armi.configure(permissive=True)\n",
    "\n",
    "from armi.reactor.blueprints import Blueprints\n",
    "from armi.reactor.blueprints.gridBlueprint import Grids, GridBlueprint, saveToStream\n",
    "from armi.utils import asciimaps\n",
    "from armi.utils import textProcessors"
   ]
  },
  {
   "cell_type": "code",
   "execution_count": null,
   "metadata": {},
   "outputs": [],
   "source": [
    "# Load an existing Blueprint file.\n",
    "\n",
    "fName = \"./testdata/anl-afci-177-blueprints.yaml\"\n",
    "\n",
    "with open(fName, \"r\") as bpYaml:\n",
    "    bpYaml = textProcessors.resolveMarkupInclusions(\n",
    "        bpYaml, root=pathlib.Path(fName).parent\n",
    "    )\n",
    "    bp = Blueprints.load(bpYaml, RoundTripLoader)"
   ]
  },
  {
   "cell_type": "code",
   "execution_count": null,
   "metadata": {
    "scrolled": true
   },
   "outputs": [],
   "source": [
    "# Visualize the reactor core layout.\n",
    "\n",
    "print(bp.gridDesigns[\"core\"].latticeMap)"
   ]
  },
  {
   "cell_type": "code",
   "execution_count": null,
   "metadata": {},
   "outputs": [],
   "source": [
    "# Print out what the symbols stand for\n",
    "\n",
    "for k, v in bp.assemDesigns.items():\n",
    "    print(f\"{v.specifier}: {k}\")"
   ]
  },
  {
   "cell_type": "code",
   "execution_count": null,
   "metadata": {},
   "outputs": [],
   "source": [
    "# Convert the core layout into a format that can be passed to Javascript.\n",
    "\n",
    "asciiMapCls = asciimaps.asciiMapFromGeomAndDomain(\n",
    "    geomType=bp.gridDesigns[\"core\"].geom,\n",
    "    domain=bp.gridDesigns[\"core\"].symmetry.split()[0])\n",
    "\n",
    "asciiMap = asciiMapCls()\n",
    "asciiMap.readAscii(bp.gridDesigns[\"core\"].latticeMap)"
   ]
  },
  {
   "cell_type": "code",
   "execution_count": null,
   "metadata": {},
   "outputs": [],
   "source": [
    "# gridEditor.py does specify a way to generate the color palette programmatically using the\n",
    "# Flags, but I am hardcoding here as a quick hack for the demo.\n",
    "\n",
    "specifierMap = {\n",
    "    \"IC\": {\n",
    "        \"color\": [219, 112, 147],  # PaleVioletRed\n",
    "        \"name\": \"inner core\",\n",
    "    },\n",
    "    \"MC\": {\n",
    "        \"color\": [250, 128, 114],  # Salmon\n",
    "        \"name\": \"middle core\",\n",
    "    },\n",
    "    \"OC\": {\n",
    "        \"color\": [139, 0, 0],      # DarkRed\n",
    "        \"name\": \"outer core\",\n",
    "    },\n",
    "    \"RR\": {\n",
    "        \"color\": [195, 144, 28],   # GoldenRod\n",
    "        \"name\": \"radial reflector\",\n",
    "    },\n",
    "    \"SH\": {\n",
    "        \"color\": [128, 128, 128],  # Grey\n",
    "        \"name\": \"radial shield\",\n",
    "    },\n",
    "    \"PC\": {\n",
    "        \"color\": [0, 255, 0],      # Lime\n",
    "        \"name\": \"control\",\n",
    "    },\n",
    "    \"US\": {\n",
    "        \"color\": [0, 0, 0],        # Black\n",
    "        \"name\": \"ultimate shutdown\",\n",
    "    },\n",
    "    \"-\": {\n",
    "        \"color\": [211, 211, 211],    # Light Grey\n",
    "        \"name\": \"(nothing)\",\n",
    "    },\n",
    "}"
   ]
  },
  {
   "cell_type": "code",
   "execution_count": null,
   "metadata": {},
   "outputs": [],
   "source": [
    "# A simple grid, drawn using svg and d3js.\n",
    "\n",
    "sharedData = {}\n",
    "\n",
    "def testCallback(data):\n",
    "    sharedData[\"points\"] = data[\"points\"]\n",
    "    return True\n",
    "\n",
    "callbacks = {\n",
    "    \"test\": testCallback\n",
    "}\n",
    "\n",
    "with open(\"./dist/bundle.js\", \"r\") as f:\n",
    "    bundle = f.read()\n",
    "\n",
    "with open(\"./grid_gui.css\", \"r\") as f:\n",
    "    gridGuiCss = f.read()\n",
    "\n",
    "dataDict = {\"geomtype\": \"hex\"}\n",
    "points = []\n",
    "for (i, j), specifier in asciiMap.items():\n",
    "    point = {\n",
    "        \"i\": i,\n",
    "        \"j\": j,\n",
    "        \"specifier\": specifier,\n",
    "    }\n",
    "    points.append(point)\n",
    "dataDict[\"points\"] = points\n",
    "dataDict[\"specifierMap\"] = specifierMap\n",
    "\n",
    "execute_js(\n",
    "    bundle,\n",
    "    main_function=\"bundle.main\",\n",
    "    callbacks=callbacks,\n",
    "    data_dict=dataDict,\n",
    "    css_list=[gridGuiCss],\n",
    ")"
   ]
  },
  {
   "cell_type": "code",
   "execution_count": null,
   "metadata": {},
   "outputs": [],
   "source": [
    "# Click the \"Export points\" button above.\n",
    "# Now, this shared_data python dictionary will be populated with the edited layout,\n",
    "# even though the editing logic is written in Javascript.\n",
    "# Pretty cool huh?\n",
    "\n",
    "sharedData"
   ]
  },
  {
   "cell_type": "code",
   "execution_count": null,
   "metadata": {},
   "outputs": [],
   "source": [
    "# Now you probably want to convert the edited grid back to an ASCII map.\n",
    "\n",
    "bp.gridDesigns[\"core\"].gridContents = {\n",
    "    (point[\"i\"], point[\"j\"]): point[\"specifier\"]\n",
    "    for point in sharedData[\"points\"]\n",
    "}"
   ]
  },
  {
   "cell_type": "code",
   "execution_count": null,
   "metadata": {},
   "outputs": [],
   "source": [
    "# There! You should see the edited points below.\n",
    "\n",
    "with io.StringIO() as f:\n",
    "    saveToStream(f, bp, tryMap=True)\n",
    "    print(f.getvalue())"
   ]
  }
 ],
 "metadata": {
  "colab": {
   "collapsed_sections": [],
   "name": "armi-libs.ipynb",
   "provenance": []
  },
  "kernelspec": {
   "display_name": "Python 3 (ipykernel)",
   "language": "python",
   "name": "python3"
  },
  "language_info": {
   "codemirror_mode": {
    "name": "ipython",
    "version": 3
   },
   "file_extension": ".py",
   "mimetype": "text/x-python",
   "name": "python",
   "nbconvert_exporter": "python",
   "pygments_lexer": "ipython3",
   "version": "3.10.6"
  }
 },
 "nbformat": 4,
 "nbformat_minor": 4
}
